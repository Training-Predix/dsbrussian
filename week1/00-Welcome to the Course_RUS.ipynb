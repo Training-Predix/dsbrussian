{
 "cells": [
  {
   "cell_type": "markdown",
   "metadata": {},
   "source": [
    "___\n",
    "\n",
    "<a href='http://www.pieriandata.com'> <img src='Pierian_Data_Logo.png' /></a>\n",
    "___\n",
    "# Добро пожаловать!\n",
    "\n",
    "Это хранилище для курса: **Python буткемп для науки о данных и машинного обучения (Python for Data Science и Machine Learning Bootcamp)**\n",
    "\n",
    "Благодарим за то, что записались на курс!\n",
    "\n",
    "## Обзор этого хранилища\n",
    "\n",
    "Это хранилище содержит все необходимое для курса, включая все тетрадки (notebooks)и ссылки."
   ]
  }
 ],
 "metadata": {
  "kernelspec": {
   "display_name": "Python 3",
   "language": "python",
   "name": "python3"
  },
  "language_info": {
   "codemirror_mode": {
    "name": "ipython",
    "version": 3
   },
   "file_extension": ".py",
   "mimetype": "text/x-python",
   "name": "python",
   "nbconvert_exporter": "python",
   "pygments_lexer": "ipython3",
   "version": "3.7.3"
  }
 },
 "nbformat": 4,
 "nbformat_minor": 1
}
