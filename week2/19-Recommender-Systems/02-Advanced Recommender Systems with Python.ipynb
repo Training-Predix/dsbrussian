{
 "cells": [
  {
   "cell_type": "markdown",
   "metadata": {},
   "source": [
    "\n",
    "# Продвинутые рекомендательные системы с Python\n",
    "\n",
    "Добро пожаловать в тетрадку кода для создания продвинутых рекомендательных систем с Python. Это необязательная лекция, которую вы можете просмотреть. По причинам уровня применяемой математики и интенсивного использования SciPy, в настоящее время видео для этой лекции нет.\n",
    "\n",
    "Рекомендательные системы обычно полагаются на большие наборы данных и, в особенности, должны быть организованы определенным образом. Поэтому, вместо проекта, соответствующего этой теме, мы проведем более интенсивный процесс пошагового руководства по созданию рекомендательных систем с Python с тем же набором данных Movie Lens Data Set.\n",
    "\n",
    "*Примечание: Фактическая математика, лежащая в основе рекомендательных систем, имеет глубокие корни в линейной алгебре.*\n",
    "___"
   ]
  },
  {
   "cell_type": "markdown",
   "metadata": {},
   "source": [
    "## Используемые методы\n",
    "\n",
    "Двумя наиболее распространёнными типами рекомендательных систем являются **Content-Based** (по содержанию или на основе контента) и **Collaborative Filtering (CF)** (коллаборативная фильтрация). \n",
    "\n",
    "* Коллаборативная фильтрация вырабатывает рекомендации, основанные на знании отношения пользователей к предметам, то есть использует \"мудрость толпы\" для рекомендации предметов. \n",
    "* Рекомендательные системы на основе контента фокусируются на атрибутах элементов и дают рекомендации на основе сходства между ними.\n",
    "\n",
    "## Коллаборативная фильтрация (Collaborative Filtering)\n",
    "\n",
    "В целом, коллаборативная фильтрация (CF) используется чаще, чем системы на основе контента, поскольку обычно она даёт лучшие результаты и относительно проста для понимания (с точки зрения общей реализации). Алгоритм имеет возможность самостоятельно изучать особенности, что означает, что он может начать самостоятельно изучать, какие особенности использовать. \n",
    "\n",
    "CF можно разделить на **Memory-Based Collaborative Filtering** (CF на основе памяти) и **Model-Based Collaborative filtering** (CF на основе модели). \n",
    "\n",
    "В этом руководстве мы будем претворять CF на основе модели, используя сингулярное разложение (SVD) и CF на основе памяти, вычислив косинусное сходство (cosine similarity). \n",
    "\n",
    "## Данные\n",
    "\n",
    "Мы будем использовать известный набор данных MovieLens dataset, который является одним из наиболее распространенных наборов данных, используемых при реализации и тестировании рекомендательных систем. Он содержит 100 тысяч рейтингов фильмов от 943 пользователей, и предлагает выбор из 1682 фильмов.\n",
    "\n",
    "Вы можете скачать набор данных [здесь](http://files.grouplens.org/datasets/movielens/ml-100k.zip), или просто используйте файл u.data, который уже включён в эту папку.\n",
    "\n",
    "____\n",
    "## Начало работы\n",
    "\n",
    "Давайте импортируем некоторые из библиотек, которые нам понадобятся:"
   ]
  },
  {
   "cell_type": "code",
   "execution_count": 1,
   "metadata": {},
   "outputs": [],
   "source": [
    "import numpy as np\n",
    "import pandas as pd"
   ]
  },
  {
   "cell_type": "markdown",
   "metadata": {},
   "source": [
    "Затем мы можем загрузить файл **u.data**, который содержит полный набор данных. Вы можете прочитать краткое описание набора данных [здесь](http://files.grouplens.org/datasets/movielens/ml-100k-README.txt).\n",
    "\n",
    "Обратите внимание, как мы определяем аргумент separator для файла, разделенного табуляцией."
   ]
  },
  {
   "cell_type": "code",
   "execution_count": 2,
   "metadata": {},
   "outputs": [],
   "source": [
    "column_names = ['user_id', 'item_id', 'rating', 'timestamp']\n",
    "df = pd.read_csv('u.data', sep='\\t', names=column_names)"
   ]
  },
  {
   "cell_type": "markdown",
   "metadata": {},
   "source": [
    "Давайте кратко рассмотрим данные."
   ]
  },
  {
   "cell_type": "code",
   "execution_count": 3,
   "metadata": {},
   "outputs": [
    {
     "data": {
      "text/html": [
       "<div>\n",
       "<style scoped>\n",
       "    .dataframe tbody tr th:only-of-type {\n",
       "        vertical-align: middle;\n",
       "    }\n",
       "\n",
       "    .dataframe tbody tr th {\n",
       "        vertical-align: top;\n",
       "    }\n",
       "\n",
       "    .dataframe thead th {\n",
       "        text-align: right;\n",
       "    }\n",
       "</style>\n",
       "<table border=\"1\" class=\"dataframe\">\n",
       "  <thead>\n",
       "    <tr style=\"text-align: right;\">\n",
       "      <th></th>\n",
       "      <th>user_id</th>\n",
       "      <th>item_id</th>\n",
       "      <th>rating</th>\n",
       "      <th>timestamp</th>\n",
       "    </tr>\n",
       "  </thead>\n",
       "  <tbody>\n",
       "    <tr>\n",
       "      <th>0</th>\n",
       "      <td>0</td>\n",
       "      <td>50</td>\n",
       "      <td>5</td>\n",
       "      <td>881250949</td>\n",
       "    </tr>\n",
       "    <tr>\n",
       "      <th>1</th>\n",
       "      <td>0</td>\n",
       "      <td>172</td>\n",
       "      <td>5</td>\n",
       "      <td>881250949</td>\n",
       "    </tr>\n",
       "    <tr>\n",
       "      <th>2</th>\n",
       "      <td>0</td>\n",
       "      <td>133</td>\n",
       "      <td>1</td>\n",
       "      <td>881250949</td>\n",
       "    </tr>\n",
       "    <tr>\n",
       "      <th>3</th>\n",
       "      <td>196</td>\n",
       "      <td>242</td>\n",
       "      <td>3</td>\n",
       "      <td>881250949</td>\n",
       "    </tr>\n",
       "    <tr>\n",
       "      <th>4</th>\n",
       "      <td>186</td>\n",
       "      <td>302</td>\n",
       "      <td>3</td>\n",
       "      <td>891717742</td>\n",
       "    </tr>\n",
       "  </tbody>\n",
       "</table>\n",
       "</div>"
      ],
      "text/plain": [
       "   user_id  item_id  rating  timestamp\n",
       "0        0       50       5  881250949\n",
       "1        0      172       5  881250949\n",
       "2        0      133       1  881250949\n",
       "3      196      242       3  881250949\n",
       "4      186      302       3  891717742"
      ]
     },
     "execution_count": 3,
     "metadata": {},
     "output_type": "execute_result"
    }
   ],
   "source": [
    "df.head()"
   ]
  },
  {
   "cell_type": "markdown",
   "metadata": {},
   "source": [
    "Обратите внимание, что у нас есть только item_id, а не название фильма. Мы можем использовать csv-файл Movie_ID_Titles, чтобы извлечь названия фильмов и объединить их с этой dataframe:"
   ]
  },
  {
   "cell_type": "code",
   "execution_count": 4,
   "metadata": {},
   "outputs": [
    {
     "data": {
      "text/html": [
       "<div>\n",
       "<style scoped>\n",
       "    .dataframe tbody tr th:only-of-type {\n",
       "        vertical-align: middle;\n",
       "    }\n",
       "\n",
       "    .dataframe tbody tr th {\n",
       "        vertical-align: top;\n",
       "    }\n",
       "\n",
       "    .dataframe thead th {\n",
       "        text-align: right;\n",
       "    }\n",
       "</style>\n",
       "<table border=\"1\" class=\"dataframe\">\n",
       "  <thead>\n",
       "    <tr style=\"text-align: right;\">\n",
       "      <th></th>\n",
       "      <th>item_id</th>\n",
       "      <th>title</th>\n",
       "    </tr>\n",
       "  </thead>\n",
       "  <tbody>\n",
       "    <tr>\n",
       "      <th>0</th>\n",
       "      <td>1</td>\n",
       "      <td>Toy Story (1995)</td>\n",
       "    </tr>\n",
       "    <tr>\n",
       "      <th>1</th>\n",
       "      <td>2</td>\n",
       "      <td>GoldenEye (1995)</td>\n",
       "    </tr>\n",
       "    <tr>\n",
       "      <th>2</th>\n",
       "      <td>3</td>\n",
       "      <td>Four Rooms (1995)</td>\n",
       "    </tr>\n",
       "    <tr>\n",
       "      <th>3</th>\n",
       "      <td>4</td>\n",
       "      <td>Get Shorty (1995)</td>\n",
       "    </tr>\n",
       "    <tr>\n",
       "      <th>4</th>\n",
       "      <td>5</td>\n",
       "      <td>Copycat (1995)</td>\n",
       "    </tr>\n",
       "  </tbody>\n",
       "</table>\n",
       "</div>"
      ],
      "text/plain": [
       "   item_id              title\n",
       "0        1   Toy Story (1995)\n",
       "1        2   GoldenEye (1995)\n",
       "2        3  Four Rooms (1995)\n",
       "3        4  Get Shorty (1995)\n",
       "4        5     Copycat (1995)"
      ]
     },
     "execution_count": 4,
     "metadata": {},
     "output_type": "execute_result"
    }
   ],
   "source": [
    "movie_titles = pd.read_csv(\"Movie_Id_Titles\")\n",
    "movie_titles.head()"
   ]
  },
  {
   "cell_type": "markdown",
   "metadata": {},
   "source": [
    "Затем объедините dataframes:"
   ]
  },
  {
   "cell_type": "code",
   "execution_count": 5,
   "metadata": {},
   "outputs": [
    {
     "data": {
      "text/html": [
       "<div>\n",
       "<style scoped>\n",
       "    .dataframe tbody tr th:only-of-type {\n",
       "        vertical-align: middle;\n",
       "    }\n",
       "\n",
       "    .dataframe tbody tr th {\n",
       "        vertical-align: top;\n",
       "    }\n",
       "\n",
       "    .dataframe thead th {\n",
       "        text-align: right;\n",
       "    }\n",
       "</style>\n",
       "<table border=\"1\" class=\"dataframe\">\n",
       "  <thead>\n",
       "    <tr style=\"text-align: right;\">\n",
       "      <th></th>\n",
       "      <th>user_id</th>\n",
       "      <th>item_id</th>\n",
       "      <th>rating</th>\n",
       "      <th>timestamp</th>\n",
       "      <th>title</th>\n",
       "    </tr>\n",
       "  </thead>\n",
       "  <tbody>\n",
       "    <tr>\n",
       "      <th>0</th>\n",
       "      <td>0</td>\n",
       "      <td>50</td>\n",
       "      <td>5</td>\n",
       "      <td>881250949</td>\n",
       "      <td>Star Wars (1977)</td>\n",
       "    </tr>\n",
       "    <tr>\n",
       "      <th>1</th>\n",
       "      <td>290</td>\n",
       "      <td>50</td>\n",
       "      <td>5</td>\n",
       "      <td>880473582</td>\n",
       "      <td>Star Wars (1977)</td>\n",
       "    </tr>\n",
       "    <tr>\n",
       "      <th>2</th>\n",
       "      <td>79</td>\n",
       "      <td>50</td>\n",
       "      <td>4</td>\n",
       "      <td>891271545</td>\n",
       "      <td>Star Wars (1977)</td>\n",
       "    </tr>\n",
       "    <tr>\n",
       "      <th>3</th>\n",
       "      <td>2</td>\n",
       "      <td>50</td>\n",
       "      <td>5</td>\n",
       "      <td>888552084</td>\n",
       "      <td>Star Wars (1977)</td>\n",
       "    </tr>\n",
       "    <tr>\n",
       "      <th>4</th>\n",
       "      <td>8</td>\n",
       "      <td>50</td>\n",
       "      <td>5</td>\n",
       "      <td>879362124</td>\n",
       "      <td>Star Wars (1977)</td>\n",
       "    </tr>\n",
       "  </tbody>\n",
       "</table>\n",
       "</div>"
      ],
      "text/plain": [
       "   user_id  item_id  rating  timestamp             title\n",
       "0        0       50       5  881250949  Star Wars (1977)\n",
       "1      290       50       5  880473582  Star Wars (1977)\n",
       "2       79       50       4  891271545  Star Wars (1977)\n",
       "3        2       50       5  888552084  Star Wars (1977)\n",
       "4        8       50       5  879362124  Star Wars (1977)"
      ]
     },
     "execution_count": 5,
     "metadata": {},
     "output_type": "execute_result"
    }
   ],
   "source": [
    "df = pd.merge(df,movie_titles,on='item_id')\n",
    "df.head()"
   ]
  },
  {
   "cell_type": "markdown",
   "metadata": {},
   "source": [
    "Теперь давайте взглянем на количество уникальных пользователей и фильмов."
   ]
  },
  {
   "cell_type": "code",
   "execution_count": 6,
   "metadata": {},
   "outputs": [
    {
     "name": "stdout",
     "output_type": "stream",
     "text": [
      "Num. of Users: 944\n",
      "Num of Movies: 1682\n"
     ]
    }
   ],
   "source": [
    "n_users = df.user_id.nunique()\n",
    "n_items = df.item_id.nunique()\n",
    "\n",
    "print('Num. of Users: '+ str(n_users))\n",
    "print('Num of Movies: '+str(n_items))"
   ]
  },
  {
   "cell_type": "markdown",
   "metadata": {},
   "source": [
    "## Разделение данных на обучающий и тестовый наборы\n",
    "\n",
    "Системы рекомендаций по своей природе очень сложно оценивать, но в этом руководстве мы все-же покажем вам, как их оценивать. Для этого мы разделим наши данные на два набора. Тем не менее, мы не будем делать наши классические X_train,X_test,y_train,y_test split. Вместо этого мы можем просто сегментировать данные на два набора данных:"
   ]
  },
  {
   "cell_type": "code",
   "execution_count": 19,
   "metadata": {},
   "outputs": [],
   "source": [
    "from sklearn.model_selection import train_test_split\n",
    "#from sklearn.cross_validation import train_test_split\n",
    "train_data, test_data = train_test_split(df, test_size=0.25)"
   ]
  },
  {
   "cell_type": "markdown",
   "metadata": {},
   "source": [
    "## Коллаборативная фильтрация на основе памяти (Memory-Based Collaborative Filtering)\n",
    "\n",
    "Подходы к коллаборативной фильтрации на основе памяти можно разделить на два основных раздела: **user-item filtering** и **item-item filtering**. \n",
    "\n",
    "*user-item filtering* возьмет определенного пользователя, найдет пользователей, похожих на него, на основе сходства оценок, и порекомендует элемент, которые понравились пользователям схожим с ним/ней.\n",
    "\n",
    "*item-item filtering*, в отличие, возьмет элемент, найдет пользователей, которым понравился этот элемент, включая другие элементы, которые также нравятся этим пользователям или аналогичным пользователям. Он берёт одни элементы и выводит другие элементы в качестве рекомендаций.\n",
    "\n",
    "* *Item-Item Collaborative Filtering*: “Пользователям, которым понравился этот элемент, также понравилось …”\n",
    "* *User-Item Collaborative Filtering*: “Пользователям,  похожим на вас, также понравилось…”"
   ]
  },
  {
   "cell_type": "markdown",
   "metadata": {},
   "source": [
    "В обоих случаях вы создаёте матрицу пользовательских элементов, которая построена из всего набора данных.\n",
    "\n",
    "Поскольку мы разделили данные на тестирование и обучение, нам нужно будет создать две матрицы ``[943 x 1682]``(все пользователи на все фильмы).\n",
    "\n",
    "Матрица обучения содержит 75% рейтингов, а матрица тестирования - 25% рейтингов."
   ]
  },
  {
   "cell_type": "markdown",
   "metadata": {},
   "source": [
    "Пример матрицы user-item:\n",
    "<img class=\"aligncenter size-thumbnail img-responsive\" src=\"http://s33.postimg.org/ay0ty90fj/BLOG_CCA_8.png\" alt=\"blog8\"/>"
   ]
  },
  {
   "cell_type": "markdown",
   "metadata": {},
   "source": [
    "После того, как вы построили матрицу user-item, рассчитайте сходство и создайте матрицу подобия (similarity matrix). \n",
    "\n",
    "Значения сходства между элементами в *Item-Item Collaborative Filtering* измеряются путем наблюдения всех пользователей, которые оценили оба элемента.  \n",
    "\n",
    "<img class=\"aligncenter size-thumbnail img-responsive\" style=\"max-width:100%; width: 50%; max-width: none\" src=\"http://s33.postimg.org/i522ma83z/BLOG_CCA_10.png\"/>"
   ]
  },
  {
   "cell_type": "markdown",
   "metadata": {},
   "source": [
    "Для *User-Item Collaborative Filtering* значения сходства между пользователями измеряются путем наблюдения всех элементов, которые оценены обоими пользователями.\n",
    "\n",
    "<img class=\"aligncenter size-thumbnail img-responsive\" style=\"max-width:100%; width: 50%; max-width: none\" src=\"http://s33.postimg.org/mlh3z3z4f/BLOG_CCA_11.png\"/>"
   ]
  },
  {
   "cell_type": "markdown",
   "metadata": {},
   "source": [
    "Метрикой расстояния, обычно используемой в рекомендательных системах, является косинусное сходство, где рейтинги рассматриваются, как векторы в ``n``-мерном пространстве а сходство рассчитывается на основе угла между этими векторами. \n",
    "Косинусное сходство для пользователей *a* и *m* может быть рассчитан по следующей формуле: вы берете точечное произведение вектора пользователя *$u_k$* и вектора пользователя *$u_a$*, и делите его с помощью умножения Евклидовой длины векторов.\n",
    "\n",
    "<img class=\"aligncenter size-thumbnail img-responsive\" src=\"https://latex.codecogs.com/gif.latex?s_u^{cos}(u_k,u_a)=\\frac{u_k&space;\\cdot&space;u_a&space;}{&space;\\left&space;\\|&space;u_k&space;\\right&space;\\|&space;\\left&space;\\|&space;u_a&space;\\right&space;\\|&space;}&space;=\\frac{\\sum&space;x_{k,m}x_{a,m}}{\\sqrt{\\sum&space;x_{k,m}^2\\sum&space;x_{a,m}^2}}\"/>\n",
    "\n",
    "Для вычисления сходства между элементами *m* и *b* используйте формулу:\n",
    "\n",
    "<img class=\"aligncenter size-thumbnail img-responsive\" src=\"https://latex.codecogs.com/gif.latex?s_u^{cos}(i_m,i_b)=\\frac{i_m&space;\\cdot&space;i_b&space;}{&space;\\left&space;\\|&space;i_m&space;\\right&space;\\|&space;\\left&space;\\|&space;i_b&space;\\right&space;\\|&space;}&space;=\\frac{\\sum&space;x_{a,m}x_{a,b}}{\\sqrt{\\sum&space;x_{a,m}^2\\sum&space;x_{a,b}^2}}\n",
    "\"/>\n",
    "\n",
    "Вашим первым шагом будет создание матрицы user-item. Поскольку у вас есть данные тестирования и обучения, вам нужно создать две матрицы.  "
   ]
  },
  {
   "cell_type": "code",
   "execution_count": 11,
   "metadata": {},
   "outputs": [],
   "source": [
    "#Создайте две матрицы user-item: одну для обучения, а другую для тестирования\n",
    "train_data_matrix = np.zeros((n_users, n_items))\n",
    "for line in train_data.itertuples():\n",
    "    train_data_matrix[line[1]-1, line[2]-1] = line[3]  \n",
    "\n",
    "test_data_matrix = np.zeros((n_users, n_items))\n",
    "for line in test_data.itertuples():\n",
    "    test_data_matrix[line[1]-1, line[2]-1] = line[3]"
   ]
  },
  {
   "cell_type": "markdown",
   "metadata": {},
   "source": [
    "Вы можете использовать функцию [pairwise_distances](http://scikit-learn.org/stable/modules/generated/sklearn.metrics.pairwise.pairwise_distances.html) из sklearn, чтобы вычислить косинусное сходство. Обратите внимание, что диапазон выхода будет от 0 до 1, поскольку все оценки являются положительными."
   ]
  },
  {
   "cell_type": "code",
   "execution_count": 12,
   "metadata": {},
   "outputs": [],
   "source": [
    "from sklearn.metrics.pairwise import pairwise_distances\n",
    "user_similarity = pairwise_distances(train_data_matrix, metric='cosine')\n",
    "item_similarity = pairwise_distances(train_data_matrix.T, metric='cosine')"
   ]
  },
  {
   "cell_type": "markdown",
   "metadata": {},
   "source": [
    "Следующий шаг -  прогнозирование. Вы уже создали матрицы коэффициента сходства:`user_similarity` и `item_similarity`, и поэтому сможете сделать прогноз, применив следующую формулу для CF на основе пользователя:\n",
    "\n",
    "<img class=\"aligncenter size-thumbnail img-responsive\" src=\"https://latex.codecogs.com/gif.latex?\\hat{x}_{k,m}&space;=&space;\\bar{x}_{k}&space;&plus;&space;\\frac{\\sum\\limits_{u_a}&space;sim_u(u_k,&space;u_a)&space;(x_{a,m}&space;-&space;\\bar{x_{u_a}})}{\\sum\\limits_{u_a}|sim_u(u_k,&space;u_a)|}\"/>\n",
    "\n",
    "Вы можете посмотреть на сходство между пользователями *k* и *a* , как на вес, который увеличивается в ответ на рейтинги аналогичного пользователя *a* (с поправкой на среднюю оценку этого пользователя). Вам нужно будет нормализовать его таким образом, чтобы рейтинги оставались между 1 и 5 и, в качестве последнего шага, суммировать средние рейтинги для пользователя, которого вы пытаетесь предсказать. \n",
    "\n",
    "Идея заключается в том, что некоторые пользователи могут иметь тенденцию всегда давать высокие или низкие оценки всем фильмам. Относительная разница в рейтингах, которые дают эти пользователи, важнее абсолютных значений. Для примера: предположим, пользователь *k* дает 4 звезды своим любимым фильмам, и 3 звезды - всем другим хорошим фильмам. Предположим теперь, что другой пользователь *t* оценивает фильмы, которые он/она любит, 5-ю звездами, а фильмы, на которых он/она заснул - 3-мя звездами. Эти два пользователя могут иметь очень схожий вкус, но по-разному относятся к системе рейтинга. \n",
    "\n",
    "При прогнозировании CF на основе элементов вам не нужно корректировать средний рейтинг пользователей, так как сам пользователь запроса используется для прогнозирования.\n",
    "\n",
    "<img class=\"aligncenter size-thumbnail img-responsive\" src=\"https://latex.codecogs.com/gif.latex?\\hat{x}_{k,m}&space;=&space;\\frac{\\sum\\limits_{i_b}&space;sim_i(i_m,&space;i_b)&space;(x_{k,b})&space;}{\\sum\\limits_{i_b}|sim_i(i_m,&space;i_b)|}\"/>"
   ]
  },
  {
   "cell_type": "code",
   "execution_count": 13,
   "metadata": {},
   "outputs": [],
   "source": [
    "def predict(ratings, similarity, type='user'):\n",
    "    if type == 'user':\n",
    "        mean_user_rating = ratings.mean(axis=1)\n",
    "        #Вы используете np.newaxis, так что mean_user_rating имеет тот же формат, что и рейтинги\n",
    "        ratings_diff = (ratings - mean_user_rating[:, np.newaxis]) \n",
    "        pred = mean_user_rating[:, np.newaxis] + similarity.dot(ratings_diff) / np.array([np.abs(similarity).sum(axis=1)]).T\n",
    "    elif type == 'item':\n",
    "        pred = ratings.dot(similarity) / np.array([np.abs(similarity).sum(axis=1)])     \n",
    "    return pred"
   ]
  },
  {
   "cell_type": "code",
   "execution_count": 14,
   "metadata": {},
   "outputs": [],
   "source": [
    "item_prediction = predict(train_data_matrix, item_similarity, type='item')\n",
    "user_prediction = predict(train_data_matrix, user_similarity, type='user')"
   ]
  },
  {
   "cell_type": "markdown",
   "metadata": {},
   "source": [
    "### Оценка\n",
    "Существует множество показателей оценки, но одной из самых популярных метрик, используемых для оценки точности прогнозируемых оценок, является *Среднеквадратическая ошибка (RMSE)*. \n",
    "<img src=\"https://latex.codecogs.com/gif.latex?RMSE&space;=\\sqrt{\\frac{1}{N}&space;\\sum&space;(x_i&space;-\\hat{x_i})^2}\" title=\"RMSE =\\sqrt{\\frac{1}{N} \\sum (x_i -\\hat{x_i})^2}\" />\n",
    "\n",
    "Вы можете использовать функцию (MSE) [mean_square_error](http://scikit-learn.org/stable/modules/generated/sklearn.metrics.mean_squared_error.html) из `sklearn`, где RMSE - это просто квадратный корень из MSE. Чтобы больше узнать о различных метриках оценки, вы можете взглянуть на [эту статью](http://research.microsoft.com/pubs/115396/EvaluationMetrics.TR.pdf). "
   ]
  },
  {
   "cell_type": "markdown",
   "metadata": {},
   "source": [
    "Поскольку вы хотите учесть только прогнозируемые рейтинги, находящиеся в наборе тестовых данных, отфильтруйте все остальные элементы в матрице прогнозирования с помощью `prediction[ground_truth.nonzero()]`. "
   ]
  },
  {
   "cell_type": "code",
   "execution_count": 15,
   "metadata": {},
   "outputs": [],
   "source": [
    "from sklearn.metrics import mean_squared_error\n",
    "from math import sqrt\n",
    "def rmse(prediction, ground_truth):\n",
    "    prediction = prediction[ground_truth.nonzero()].flatten() \n",
    "    ground_truth = ground_truth[ground_truth.nonzero()].flatten()\n",
    "    return sqrt(mean_squared_error(prediction, ground_truth))"
   ]
  },
  {
   "cell_type": "code",
   "execution_count": 16,
   "metadata": {
    "scrolled": true
   },
   "outputs": [
    {
     "name": "stdout",
     "output_type": "stream",
     "text": [
      "User-based CF RMSE: 3.1262500764956056\n",
      "Item-based CF RMSE: 3.452699732471426\n"
     ]
    }
   ],
   "source": [
    "print('User-based CF RMSE: ' + str(rmse(user_prediction, test_data_matrix)))\n",
    "print('Item-based CF RMSE: ' + str(rmse(item_prediction, test_data_matrix)))"
   ]
  },
  {
   "cell_type": "markdown",
   "metadata": {},
   "source": [
    "Алгоритмы на основе памяти просты в реализации и обеспечивают приемлемое качество прогнозирования.  Недостатком CF на основе памяти является то, что он не масштабируется до реальных сценариев и не решает хорошо известную проблему холодного запуска, то есть когда в систему входит новый пользователь или новый элемент. Методы CF на основе моделей являются масштабируемыми и могут иметь более высокий уровень разреженности, чем модели на основе памяти, но также страдают, когда в систему попадают новые пользователи или элементы, не имеющие рейтингов. Я хотел бы поблагодарить Итана Розенталя за его [пост] http://blog.ethanrosenthal.com/2015/11/02/intro-to-collaborative-filtering/) о коллаборативной фильтрации на основе памяти (Memory-Based Collaborative Filtering). "
   ]
  },
  {
   "cell_type": "markdown",
   "metadata": {},
   "source": [
    "# Коллаборативная фильтрация на основе моделей\n",
    "\n",
    "Коллаборативная фильтрация на основе моделей основана на **матричной факторизации (MF)**, которая получила более широкое распространение, главным образом в качестве метода обучения без учителя для декомпозиции скрытых переменных и снижения размерности. Матричная факторизация широко используется для рекомендательных систем, где она может лучше справляться с масштабируемостью и разреженностью, чем основанная на памяти CF. Матричная факторизация широко используется для рекомендательных систем, где она лучше справляется с масштабируемостью и разреженностью, чем основанная на памяти CF. Цель MF состоит в том, чтобы узнать скрытые предпочтения пользователей и скрытые атрибуты элементов из известных рейтингов (изучить особенности, которые описывают особенности рейтингов), чтобы затем предсказать неизвестные рейтинги через точечный продукт скрытых особенностей пользователей и элементов. \n",
    "Когда у вас очень разреженная матрица с большим количеством измерений, путем факторизации матрицы вы можете реструктурировать матрицу пользовательского элемента в структуру низкого ранга, и вы можете отобразить матрицу путем умножения двух матриц низкого ранга, где строки содержат скрытый вектор. Вы подгоняете эту матрицу, чтобы максимально приблизиться к исходной матрице, умножая матрицы низкого ранга друг на друга, что заполняет записи, отсутствующие в исходной матрице.\n",
    "\n",
    "Рассчитаем уровень разреженности MovieLens dataset:"
   ]
  },
  {
   "cell_type": "code",
   "execution_count": 17,
   "metadata": {},
   "outputs": [
    {
     "name": "stdout",
     "output_type": "stream",
     "text": [
      "The sparsity level of MovieLens100K is 93.7%\n"
     ]
    }
   ],
   "source": [
    "sparsity=round(1.0-len(df)/float(n_users*n_items),3)\n",
    "print('The sparsity level of MovieLens100K is ' +  str(sparsity*100) + '%')"
   ]
  },
  {
   "cell_type": "markdown",
   "metadata": {},
   "source": [
    "Чтобы привести пример изученных скрытых предпочтений пользователей и элементов: предположим, что для набора данных MovieLens у вас есть следующая информация: _(user id, age, location, gender, movie id, director, actor, language, year, rating)_. Применяя матричную факторизацию, модель узнает, что важными особенностями пользователя являются _age group (under 10, 10-18, 18-30, 30-90)_, _location_ и _gender_, что касается особенностей фильма, она узнает, что _decade_, _director_ and _actor_  являются наиболее важными. Теперь, если вы посмотрите на информацию, которую вы сохранили, такой особенности, как _decade_, не существует, но модель может учиться самостоятельно. Важным аспектом является то, что модель CF использует только данные (user_id, movie_id, rating) для изучения скрытых особенностей. Если данных недостаточно, модель CF на основе модели будет предсказывать неудачно, так как ей будет сложнее изучить скрытые особенности. \n",
    "\n",
    "Модели, использующие как рейтинги, так и особенности контента, называются **Гибридные Рекомендательные Системы** (**Hybrid Recommender Systems**), в которых совмещаются как коллаборативная фильтрация, так и модели на основе контента. Гибридные рекомендательные системы обычно показывают более высокую точность, чем коллаборативная фильтрация или модели на основе контента сами по себе: они способны лучше решать проблему холодного запуска, поскольку, если у вас нет оценок для пользователя или элемента, вы можете использовать метаданные от пользователя или элемента для прогнозирования."
   ]
  },
  {
   "cell_type": "markdown",
   "metadata": {},
   "source": [
    "### SVD (Сингулярное разложение)\n",
    "Хорошо известным методом матричной факторизации является **Сингулярное разложение (SVD)**. Коллаборативная фильтрация может быть сформулирована путем аппроксимации матрицы `X` с использованием разложения по сингулярным значениям. Команда-победитель конкурса Netflix Prize использовала модели факторизации матрицы SVD для выработки рекомендаций по продукту, для получения дополнительной информации я рекомендую прочитать статьи: [Netflix Recommendations: Beyond the 5 stars](http://techblog.netflix.com/2012/04/netflix-recommendations-beyond-5-stars.html) and [Netflix Prize and SVD](http://buzzard.ups.edu/courses/2014spring/420projects/math420-UPS-spring-2014-gower-netflix-SVD.pdf).\n",
    "Общее уравнение может быть выражено следующим образом:\n",
    "<img src=\"https://latex.codecogs.com/gif.latex?X=USV^T\" title=\"X=USV^T\" />\n",
    "\n",
    "\n",
    "Дана `m x n` матрица `X`:\n",
    "* *`U`* это *`(m x r)`* ортогональная матрица\n",
    "* *`S`* это *`(r x r)`* диагональная матрица с неотрицательными действительными числами на диагонали\n",
    "* *V^T* это *`(r x n)`* ортогональная матрица\n",
    "\n",
    "Элементы на диагональной в `S` известны, как *сингулярные значения `X`*. \n",
    "\n",
    "\n",
    "Матрица *`X`* может быть разложена на *`U`*, *`S`* и *`V`*. Матрица *`U`* представляет векторы особенностей, соответствующие пользователям в скрытом пространстве особенностей, а матрица *`V`* представляет векторы особенностей, соответствующие элементам в пространстве скрытых особенностей.\n",
    "<img class=\"aligncenter size-thumbnail img-responsive\" style=\"max-width:100%; width: 50%; max-width: none\" src=\"http://s33.postimg.org/kwgsb5g1b/BLOG_CCA_5.png\"/>\n",
    "\n",
    "Теперь вы можете сделать прогноз, взяв точечное произведение *`U`*, *`S`* и *`V^T`*.\n",
    "\n",
    "<img class=\"aligncenter size-thumbnail img-responsive\" style=\"max-width:100%; width: 50%; max-width: none\" src=\"http://s33.postimg.org/ch9lcm6pb/BLOG_CCA_4.png\"/>"
   ]
  },
  {
   "cell_type": "code",
   "execution_count": 18,
   "metadata": {},
   "outputs": [
    {
     "name": "stdout",
     "output_type": "stream",
     "text": [
      "User-based CF MSE: 2.7155526399659697\n"
     ]
    }
   ],
   "source": [
    "import scipy.sparse as sp\n",
    "from scipy.sparse.linalg import svds\n",
    "\n",
    "#Получите компоненты SVD из train matrix. Выберите k.\n",
    "u, s, vt = svds(train_data_matrix, k = 20)\n",
    "s_diag_matrix=np.diag(s)\n",
    "X_pred = np.dot(np.dot(u, s_diag_matrix), vt)\n",
    "print('User-based CF MSE: ' + str(rmse(X_pred, test_data_matrix)))"
   ]
  },
  {
   "cell_type": "markdown",
   "metadata": {},
   "source": [
    "В случае небрежного довольствования лишь относительно небольшим количеством известных записей приводит к переподгонке. SVD может быть очень медленным и ресурсоемким. Более поздние работы минимизируют квадратическую ошибку, применяя чередующийся метод наименьших квадратов или стохастический градиентный спуск, и используют термины регуляризации для предотвращения переобучения. Чередующиеся методы наименьших квадратов и стохастического градиентного спуска для CF будут рассмотрены в следующих уроках."
   ]
  },
  {
   "cell_type": "markdown",
   "metadata": {},
   "source": [
    "Обзор:\n",
    "\n",
    "* Мы рассмотрели, как реализовать простые методы **Коллаборативной фильтрации**, как на основе памяти CF, так и на основе модели CF.\n",
    "* **Модели на основе памяти** основаны на сходстве предметов или пользователей, где мы используем косинусное сходство.\n",
    "* **Основанный на модели CF** основана на факторизации матрицы, где мы используем SVD для факторизации матрицы.\n",
    "* Построение рекомендательных систем, которые хорошо работают в сценариях холодного запуска (где мало данных о новых пользователях и элементах) остается проблемой. Стандартный метод коллаборативной фильтрации плохо работает в таких условиях."
   ]
  },
  {
   "cell_type": "markdown",
   "metadata": {},
   "source": [
    "## Желаете еще?\n",
    "\n",
    "Если вы хотите провести собственный анализ системы рекомендаций, проверьте эти наборы данных. Примечание: В большинстве случаев файлы достаточно велики, не все ссылки могут оставаться активными, чтобы хранить данные, но большинство из них все еще работают. Или просто Google, чтоб найти свой собственный набор данных!\n",
    "\n",
    "**Рекомендации фильмов:**\n",
    "\n",
    "MovieLens - Наборы данных рекомендаций по фильмам http://www.grouplens.org/node/73\n",
    "\n",
    "Yahoo! - Наборы данных рейтингов фильмов, музыки и изображений http://webscope.sandbox.yahoo.com/catalog.php?datatype=r\n",
    "\n",
    "Jester - Наборы данных рейтингов фильмов (набор данных для коллаборативной фильтрации) http://www.ieor.berkeley.edu/~goldberg/jester-data/\n",
    "\n",
    "Корнеллский университет - Данные обзоров фильмов для использования в экспериментах анализа тональности текста (sentiment-analysis experiments) http://www.cs.cornell.edu/people/pabo/movie-review-data/\n",
    "\n",
    "**Музыкальные рекомендации:**\n",
    "\n",
    "Last.fm - Наборы музыкальных рекомендаций http://www.dtic.upf.edu/~ocelma/MusicRecommendationDataset/index.html\n",
    "\n",
    "Yahoo! - Наборы данных рейтингов фильмов, музыки и изображений http://webscope.sandbox.yahoo.com/catalog.php?datatype=r\n",
    "\n",
    "Audioscrobbler - Наборы музыкальных рекомендаций http://www-etud.iro.umontreal.ca/~bergstrj/audioscrobbler_data.html\n",
    "\n",
    "Amazon - Рекомендации аудио CD http://131.193.40.52/data/\n",
    "\n",
    "**Рекомендация по книгам:**\n",
    "\n",
    "Institut für Informatik, Universität Freiburg - Наборы данных рейтингов книг http://www.informatik.uni-freiburg.de/~cziegler/BX/\n",
    "\n",
    "Рекомендация по еде:\n",
    "\n",
    "Chicago Entree - Наборы данных пищевых рейтингов http://archive.ics.uci.edu/ml/datasets/Entree+Chicago+Recommendation+Data\n",
    "\n",
    "Рекомендация По Товарам:\n",
    "\n",
    "**Рекомендация здравоохранения:**\n",
    "\n",
    "Дом престарелых - Набор данных рейтингов провайдеров http://data.medicare.gov/dataset/Nursing-Home-Compare-Provider-Ratings/mufm-vy8d\n",
    "\n",
    "Рейтинги больниц - опрос пациентов/больничный опыт http://data.medicare.gov/dataset/Survey-of-Patients-Hospital-Experiences-HCAHPS-/rj76-22dk\n",
    "\n",
    "**Рекомендация по знакомству:**\n",
    "\n",
    "www.libimseti.cz - Рекомендация сайтов \n",
    "знакомств (коллаборативная фильтрация) http://www.occamslab.com/petricek/data/\n",
    "\n",
    "Рекомендация научной статьи:\n",
    "\n",
    "Национальный университет Сингапура - Рекомендация научных статей http://www.comp.nus.edu.sg/~sugiyama/SchPaperRecData.html\n",
    "\n",
    "# Прекрасная работа!"
   ]
  }
 ],
 "metadata": {
  "kernelspec": {
   "display_name": "Python 3",
   "language": "python",
   "name": "python3"
  },
  "language_info": {
   "codemirror_mode": {
    "name": "ipython",
    "version": 3
   },
   "file_extension": ".py",
   "mimetype": "text/x-python",
   "name": "python",
   "nbconvert_exporter": "python",
   "pygments_lexer": "ipython3",
   "version": "3.7.3"
  }
 },
 "nbformat": 4,
 "nbformat_minor": 2
}
