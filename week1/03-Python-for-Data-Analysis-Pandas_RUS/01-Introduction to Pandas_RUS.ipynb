{
 "cells": [
  {
   "cell_type": "markdown",
   "metadata": {},
   "source": [
    "___\n",
    "\n",
    "<a href='http://www.pieriandata.com'> <img src='../Pierian_Data_Logo.png' /></a>\n",
    "___"
   ]
  },
  {
   "cell_type": "markdown",
   "metadata": {
    "collapsed": true
   },
   "source": [
    "# Введение в Pandas\n",
    "\n",
    "В этом разделе курса мы узнаем, как использовать pandas для анализа данных. Вы можете думать о pandas как о чрезвычайно мощной версии Excel, с гораздо большим количеством функций. В этом разделе курса вы должны пройтись по тетрадкам в следующем порядке:\n",
    "\n",
    "* Введение в Pandas\n",
    "* Series \n",
    "* DataFrames\n",
    "* Отсутствующие данные\n",
    "* GroupBy\n",
    "* Слияние, присоединение и конкатенация\n",
    "* Операции\n",
    "* Ввод и вывод данных"
   ]
  },
  {
   "cell_type": "markdown",
   "metadata": {},
   "source": [
    "___"
   ]
  }
 ],
 "metadata": {
  "kernelspec": {
   "display_name": "Python 3",
   "language": "python",
   "name": "python3"
  },
  "language_info": {
   "codemirror_mode": {
    "name": "ipython",
    "version": 3
   },
   "file_extension": ".py",
   "mimetype": "text/x-python",
   "name": "python",
   "nbconvert_exporter": "python",
   "pygments_lexer": "ipython3",
   "version": "3.7.3"
  }
 },
 "nbformat": 4,
 "nbformat_minor": 1
}
